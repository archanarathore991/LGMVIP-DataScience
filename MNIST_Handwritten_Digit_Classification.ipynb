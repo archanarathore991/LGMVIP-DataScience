{
  "nbformat": 4,
  "nbformat_minor": 0,
  "metadata": {
    "colab": {
      "name": "MNIST Handwritten Digit Classification.ipynb",
      "provenance": [],
      "collapsed_sections": []
    },
    "kernelspec": {
      "name": "python3",
      "display_name": "Python 3"
    },
    "language_info": {
      "name": "python"
    },
    "accelerator": "GPU"
  },
  "cells": [
    {
      "cell_type": "markdown",
      "source": [
        "# **Task - Develop A Neural Network That Can Read Handwriting**\n",
        "**Begin your neural network machine learning project with the MNIST Handwritten Digit Classification Challenge and using Tensorflow and CNN.**"
      ],
      "metadata": {
        "id": "DhXieXhYkidf"
      }
    },
    {
      "cell_type": "markdown",
      "source": [
        "# **LetsGrowMore Data Science Intern January 2022**"
      ],
      "metadata": {
        "id": "Hnr7RHtJkEbL"
      }
    },
    {
      "cell_type": "markdown",
      "source": [
        "# **Author - Archana Rathore**"
      ],
      "metadata": {
        "id": "T3bRHLOvkKQv"
      }
    },
    {
      "cell_type": "markdown",
      "source": [
        "# **Dataset - MNIST DATASET**"
      ],
      "metadata": {
        "id": "O_nxAn6UkbUU"
      }
    },
    {
      "cell_type": "code",
      "metadata": {
        "id": "c3vC1CzbDGAe"
      },
      "source": [
        "import os\n",
        "ROOT = \"/content/drive/MyDrive/colab notebooks\""
      ],
      "execution_count": 1,
      "outputs": []
    },
    {
      "cell_type": "code",
      "metadata": {
        "id": "RzEgJ_Q9D4S3"
      },
      "source": [
        "os.chdir(ROOT)"
      ],
      "execution_count": 2,
      "outputs": []
    },
    {
      "cell_type": "code",
      "metadata": {
        "colab": {
          "base_uri": "https://localhost:8080/",
          "height": 36
        },
        "id": "lnkUmu_hD4Uz",
        "outputId": "ae28f2a1-d9ea-4d12-b29f-04cfa95b998e"
      },
      "source": [
        "os.getcwd()"
      ],
      "execution_count": 3,
      "outputs": [
        {
          "output_type": "execute_result",
          "data": {
            "application/vnd.google.colaboratory.intrinsic+json": {
              "type": "string"
            },
            "text/plain": [
              "'/content/drive/MyDrive/colab notebooks'"
            ]
          },
          "metadata": {},
          "execution_count": 3
        }
      ]
    },
    {
      "cell_type": "code",
      "metadata": {
        "id": "3NC9X2EDEL1w"
      },
      "source": [
        "import tensorflow as tf"
      ],
      "execution_count": 4,
      "outputs": []
    },
    {
      "cell_type": "code",
      "metadata": {
        "colab": {
          "base_uri": "https://localhost:8080/"
        },
        "id": "QHiA8FW7FGJm",
        "outputId": "559f78d4-7723-47d8-9687-878869c5c25f"
      },
      "source": [
        "checklist = ['GPU','CPU']\n",
        "for device in checklist:\n",
        "  out_ = tf.config.list_physical_devices(device)\n",
        "  if len(out_) > 0:\n",
        "    print(f\"{device} is available\")\n",
        "    print(\"details\",out_)\n",
        "  else:\n",
        "    print(f\"{device} is not available\")  "
      ],
      "execution_count": 5,
      "outputs": [
        {
          "output_type": "stream",
          "name": "stdout",
          "text": [
            "GPU is available\n",
            "details [PhysicalDevice(name='/physical_device:GPU:0', device_type='GPU')]\n",
            "CPU is available\n",
            "details [PhysicalDevice(name='/physical_device:CPU:0', device_type='CPU')]\n"
          ]
        }
      ]
    },
    {
      "cell_type": "markdown",
      "source": [
        "**Import required libraries**"
      ],
      "metadata": {
        "id": "Bed_uR9rlDSh"
      }
    },
    {
      "cell_type": "code",
      "metadata": {
        "id": "ylW_ibktGYgQ"
      },
      "source": [
        "import numpy as np\n",
        "import matplotlib.pyplot as plt\n",
        "import pandas as pd\n",
        "import os\n",
        "import tensorflow as tf\n",
        "import seaborn as sns"
      ],
      "execution_count": 6,
      "outputs": []
    },
    {
      "cell_type": "code",
      "metadata": {
        "id": "FudtJYBSe6uM",
        "colab": {
          "base_uri": "https://localhost:8080/"
        },
        "outputId": "7e1537c5-e7a3-4b21-f936-993c6e2dfd52"
      },
      "source": [
        "# Download and read Dataset\n",
        "# Keras already contain mnist dataset \n",
        "# Loading mnist data using Keras\n",
        "mnist = tf.keras.datasets.mnist\n",
        "(X_train_full,Y_train_full),(X_test,Y_test) = mnist.load_data()"
      ],
      "execution_count": 7,
      "outputs": [
        {
          "output_type": "stream",
          "name": "stdout",
          "text": [
            "Downloading data from https://storage.googleapis.com/tensorflow/tf-keras-datasets/mnist.npz\n",
            "11493376/11490434 [==============================] - 0s 0us/step\n",
            "11501568/11490434 [==============================] - 0s 0us/step\n"
          ]
        }
      ]
    },
    {
      "cell_type": "code",
      "source": [
        "# Shape of the mnist dataset"
      ],
      "metadata": {
        "id": "rKgHTPciiZHW"
      },
      "execution_count": 8,
      "outputs": []
    },
    {
      "cell_type": "code",
      "metadata": {
        "colab": {
          "base_uri": "https://localhost:8080/"
        },
        "id": "ooV6qbg8gBXa",
        "outputId": "fd869ba9-f97c-4a9e-fc9b-6a1ce1ec2a8c"
      },
      "source": [
        "print(f\"Data type of X train full:{X_train_full.dtype},\\nShape of X train full:{X_train_full.shape}\")"
      ],
      "execution_count": 9,
      "outputs": [
        {
          "output_type": "stream",
          "name": "stdout",
          "text": [
            "Data type of X train full:uint8,\n",
            "Shape of X train full:(60000, 28, 28)\n"
          ]
        }
      ]
    },
    {
      "cell_type": "code",
      "source": [
        "print(f\"Data type of Y train full:{Y_train_full.dtype},\\nShape of Y train full:{Y_train_full.shape}\")"
      ],
      "metadata": {
        "colab": {
          "base_uri": "https://localhost:8080/"
        },
        "id": "zlM8dssiifN_",
        "outputId": "9f8a3846-5dea-4597-8044-2bb96514387d"
      },
      "execution_count": 10,
      "outputs": [
        {
          "output_type": "stream",
          "name": "stdout",
          "text": [
            "Data type of Y train full:uint8,\n",
            "Shape of Y train full:(60000,)\n"
          ]
        }
      ]
    },
    {
      "cell_type": "code",
      "source": [
        "print(f\"Data type of X test full:{X_test.dtype},\\nShape of X test full:{X_test.shape}\")"
      ],
      "metadata": {
        "colab": {
          "base_uri": "https://localhost:8080/"
        },
        "id": "SDRlOSg0llnZ",
        "outputId": "3ce1165e-13c3-4d04-9f05-f2b1e2b967aa"
      },
      "execution_count": 11,
      "outputs": [
        {
          "output_type": "stream",
          "name": "stdout",
          "text": [
            "Data type of X test full:uint8,\n",
            "Shape of X test full:(10000, 28, 28)\n"
          ]
        }
      ]
    },
    {
      "cell_type": "code",
      "source": [
        "print(f\"Data type of Y test full:{Y_test.dtype},\\nShape of Y test full:{Y_test.shape}\")\n"
      ],
      "metadata": {
        "colab": {
          "base_uri": "https://localhost:8080/"
        },
        "id": "6sRxU1PjlwHo",
        "outputId": "34be1914-3936-4f9b-9861-5e1635c8c1ca"
      },
      "execution_count": 12,
      "outputs": [
        {
          "output_type": "stream",
          "name": "stdout",
          "text": [
            "Data type of Y test full:uint8,\n",
            "Shape of Y test full:(10000,)\n"
          ]
        }
      ]
    },
    {
      "cell_type": "code",
      "metadata": {
        "id": "6jCQkYxsgouE"
      },
      "source": [
        "#create a validation data set from the training data.\n",
        "#Scale the data between 0 and 1 by dividing it by 255 as it is an unsigned integer(0-255).\n",
        "X_valid , X_train = X_train_full[:5000]/255. , X_train_full[5000:]/255.\n",
        "Y_valid , Y_train = Y_train_full[:5000] , Y_train_full[5000:]\n",
        "\n",
        "#scale the test data as well\n",
        "X_test = X_test/255."
      ],
      "execution_count": 13,
      "outputs": []
    },
    {
      "cell_type": "code",
      "metadata": {
        "colab": {
          "base_uri": "https://localhost:8080/"
        },
        "id": "PA8pYFaxmqOm",
        "outputId": "ca81b529-dab5-4545-cb91-e04900ad9927"
      },
      "source": [
        "print(X_valid.shape)\n",
        "print(X_train.shape)"
      ],
      "execution_count": 14,
      "outputs": [
        {
          "output_type": "stream",
          "name": "stdout",
          "text": [
            "(5000, 28, 28)\n",
            "(55000, 28, 28)\n"
          ]
        }
      ]
    },
    {
      "cell_type": "code",
      "metadata": {
        "colab": {
          "base_uri": "https://localhost:8080/",
          "height": 248
        },
        "id": "bqApcPxkibmX",
        "outputId": "10715450-2707-40fd-8ee9-aadca68b5359"
      },
      "source": [
        "#lets view the first data point of X_train\n",
        "plt.imshow(X_train[0],cmap=\"binary\")\n",
        "plt.axis(\"off\")\n",
        "plt.show()"
      ],
      "execution_count": 15,
      "outputs": [
        {
          "output_type": "display_data",
          "data": {
            "image/png": "[encoded data removed]",
            "text/plain": [
              "<Figure size 432x288 with 1 Axes>"
            ]
          },
          "metadata": {
            "needs_background": "light"
          }
        }
      ]
    },
    {
      "cell_type": "code",
      "metadata": {
        "colab": {
          "base_uri": "https://localhost:8080/",
          "height": 881
        },
        "id": "zCAAhFU8iy87",
        "outputId": "cda0059f-0b6d-4107-8cf3-4f6ec3589640"
      },
      "source": [
        "plt.figure(figsize=(15,15))\n",
        "sns.heatmap(X_train[0], annot=True , cmap=\"binary\")"
      ],
      "execution_count": 16,
      "outputs": [
        {
          "output_type": "execute_result",
          "data": {
            "text/plain": [
              "<matplotlib.axes._subplots.AxesSubplot at 0x7fc491760850>"
            ]
          },
          "metadata": {},
          "execution_count": 16
        },
        {
          "output_type": "display_data",
          "data": {
            "image/png": "[encoded data removed]",
            "text/plain": [
              "<Figure size 1080x1080 with 2 Axes>"
            ]
          },
          "metadata": {
            "needs_background": "light"
          }
        }
      ]
    },
    {
      "cell_type": "code",
      "metadata": {
        "colab": {
          "base_uri": "https://localhost:8080/"
        },
        "id": "C8XIdMzDjDxL",
        "outputId": "254f8485-2339-4e76-d774-fff569e9fd6d"
      },
      "source": [
        "#actual value of y_train\n",
        "Y_train[0]"
      ],
      "execution_count": 17,
      "outputs": [
        {
          "output_type": "execute_result",
          "data": {
            "text/plain": [
              "7"
            ]
          },
          "metadata": {},
          "execution_count": 17
        }
      ]
    },
    {
      "cell_type": "markdown",
      "source": [
        "**Model Building**"
      ],
      "metadata": {
        "id": "Ff0NLbRHmoSb"
      }
    },
    {
      "cell_type": "code",
      "metadata": {
        "id": "czvVpezAjM3r"
      },
      "source": [
        "LAYERS = [tf.keras.layers.Flatten(input_shape=[28,28],name=\"inputlayer\"),\n",
        "          tf.keras.layers.Dense(300,activation =\"relu\",name=\"hiddenlayer1\"),\n",
        "          tf.keras.layers.Dense(100,activation = \"relu\",name = \"hiddenlayer2\"),\n",
        "          tf.keras.layers.Dense(10,activation = \"softmax\",name=\"outputlayer\")]\n",
        "\n",
        "model_clf = tf.keras.models.Sequential(LAYERS)        "
      ],
      "execution_count": 18,
      "outputs": []
    },
    {
      "cell_type": "code",
      "metadata": {
        "id": "wDSVlKBhkViF",
        "colab": {
          "base_uri": "https://localhost:8080/"
        },
        "outputId": "1faa4085-22fd-4f1e-fc69-8405282ae32b"
      },
      "source": [
        "model_clf.layers"
      ],
      "execution_count": 19,
      "outputs": [
        {
          "output_type": "execute_result",
          "data": {
            "text/plain": [
              "[<keras.layers.core.flatten.Flatten at 0x7fc490932450>,\n",
              " <keras.layers.core.dense.Dense at 0x7fc490317d10>,\n",
              " <keras.layers.core.dense.Dense at 0x7fc490205ad0>,\n",
              " <keras.layers.core.dense.Dense at 0x7fc490205cd0>]"
            ]
          },
          "metadata": {},
          "execution_count": 19
        }
      ]
    },
    {
      "cell_type": "code",
      "metadata": {
        "colab": {
          "base_uri": "https://localhost:8080/"
        },
        "id": "E_Xedf8cnIjz",
        "outputId": "da1c1b37-05d8-434e-f259-8b776418f918"
      },
      "source": [
        "#Model summary\n",
        "model_clf.summary()"
      ],
      "execution_count": 20,
      "outputs": [
        {
          "output_type": "stream",
          "name": "stdout",
          "text": [
            "Model: \"sequential\"\n",
            "_________________________________________________________________\n",
            " Layer (type)                Output Shape              Param #   \n",
            "=================================================================\n",
            " inputlayer (Flatten)        (None, 784)               0         \n",
            "                                                                 \n",
            " hiddenlayer1 (Dense)        (None, 300)               235500    \n",
            "                                                                 \n",
            " hiddenlayer2 (Dense)        (None, 100)               30100     \n",
            "                                                                 \n",
            " outputlayer (Dense)         (None, 10)                1010      \n",
            "                                                                 \n",
            "=================================================================\n",
            "Total params: 266,610\n",
            "Trainable params: 266,610\n",
            "Non-trainable params: 0\n",
            "_________________________________________________________________\n"
          ]
        }
      ]
    },
    {
      "cell_type": "code",
      "metadata": {
        "colab": {
          "base_uri": "https://localhost:8080/"
        },
        "id": "O024MjbRnZOy",
        "outputId": "98c37b58-396e-4faf-ec13-0579a826d6b1"
      },
      "source": [
        "# firsLayer * secondLayer + bias\n",
        "784*300 + 300"
      ],
      "execution_count": 21,
      "outputs": [
        {
          "output_type": "execute_result",
          "data": {
            "text/plain": [
              "235500"
            ]
          },
          "metadata": {},
          "execution_count": 21
        }
      ]
    },
    {
      "cell_type": "code",
      "metadata": {
        "colab": {
          "base_uri": "https://localhost:8080/"
        },
        "id": "okeejmqUnnT0",
        "outputId": "7de3c9cc-37df-4f99-af4f-1d648ddadcce"
      },
      "source": [
        "# total parameter\n",
        "sum((235300,30100,1010))"
      ],
      "execution_count": 22,
      "outputs": [
        {
          "output_type": "execute_result",
          "data": {
            "text/plain": [
              "266410"
            ]
          },
          "metadata": {},
          "execution_count": 22
        }
      ]
    },
    {
      "cell_type": "code",
      "metadata": {
        "colab": {
          "base_uri": "https://localhost:8080/",
          "height": 36
        },
        "id": "fM9NF-wUnzja",
        "outputId": "603d1eec-75d6-49df-da58-bef9bd2f7c91"
      },
      "source": [
        "hidden1 = model_clf.layers[1]\n",
        "hidden1.name"
      ],
      "execution_count": 23,
      "outputs": [
        {
          "output_type": "execute_result",
          "data": {
            "application/vnd.google.colaboratory.intrinsic+json": {
              "type": "string"
            },
            "text/plain": [
              "'hiddenlayer1'"
            ]
          },
          "metadata": {},
          "execution_count": 23
        }
      ]
    },
    {
      "cell_type": "code",
      "metadata": {
        "colab": {
          "base_uri": "https://localhost:8080/"
        },
        "id": "lgnTlimDoIQT",
        "outputId": "365a2a7c-aba6-482a-f58b-9d45f556bd4f"
      },
      "source": [
        "# 1st hidden layer weights\n",
        "hidden1.get_weights()"
      ],
      "execution_count": 24,
      "outputs": [
        {
          "output_type": "execute_result",
          "data": {
            "text/plain": [
              "[array([[ 0.00433455, -0.05845001, -0.01446368, ...,  0.03816214,\n",
              "         -0.02227759, -0.06784631],\n",
              "        [ 0.05625753, -0.01500474, -0.01818006, ..., -0.05601545,\n",
              "         -0.07427771,  0.05736205],\n",
              "        [ 0.01752097,  0.03077961, -0.02690545, ...,  0.07335643,\n",
              "          0.04206917,  0.00061859],\n",
              "        ...,\n",
              "        [-0.04825067, -0.0690119 ,  0.06795129, ...,  0.02569775,\n",
              "         -0.07204674,  0.06994559],\n",
              "        [-0.01622251,  0.02790209, -0.03685612, ...,  0.07088512,\n",
              "         -0.00959832, -0.00135583],\n",
              "        [ 0.04124881,  0.00842092, -0.03588073, ...,  0.03872182,\n",
              "         -0.00624232,  0.000779  ]], dtype=float32),\n",
              " array([0., 0., 0., 0., 0., 0., 0., 0., 0., 0., 0., 0., 0., 0., 0., 0., 0.,\n",
              "        0., 0., 0., 0., 0., 0., 0., 0., 0., 0., 0., 0., 0., 0., 0., 0., 0.,\n",
              "        0., 0., 0., 0., 0., 0., 0., 0., 0., 0., 0., 0., 0., 0., 0., 0., 0.,\n",
              "        0., 0., 0., 0., 0., 0., 0., 0., 0., 0., 0., 0., 0., 0., 0., 0., 0.,\n",
              "        0., 0., 0., 0., 0., 0., 0., 0., 0., 0., 0., 0., 0., 0., 0., 0., 0.,\n",
              "        0., 0., 0., 0., 0., 0., 0., 0., 0., 0., 0., 0., 0., 0., 0., 0., 0.,\n",
              "        0., 0., 0., 0., 0., 0., 0., 0., 0., 0., 0., 0., 0., 0., 0., 0., 0.,\n",
              "        0., 0., 0., 0., 0., 0., 0., 0., 0., 0., 0., 0., 0., 0., 0., 0., 0.,\n",
              "        0., 0., 0., 0., 0., 0., 0., 0., 0., 0., 0., 0., 0., 0., 0., 0., 0.,\n",
              "        0., 0., 0., 0., 0., 0., 0., 0., 0., 0., 0., 0., 0., 0., 0., 0., 0.,\n",
              "        0., 0., 0., 0., 0., 0., 0., 0., 0., 0., 0., 0., 0., 0., 0., 0., 0.,\n",
              "        0., 0., 0., 0., 0., 0., 0., 0., 0., 0., 0., 0., 0., 0., 0., 0., 0.,\n",
              "        0., 0., 0., 0., 0., 0., 0., 0., 0., 0., 0., 0., 0., 0., 0., 0., 0.,\n",
              "        0., 0., 0., 0., 0., 0., 0., 0., 0., 0., 0., 0., 0., 0., 0., 0., 0.,\n",
              "        0., 0., 0., 0., 0., 0., 0., 0., 0., 0., 0., 0., 0., 0., 0., 0., 0.,\n",
              "        0., 0., 0., 0., 0., 0., 0., 0., 0., 0., 0., 0., 0., 0., 0., 0., 0.,\n",
              "        0., 0., 0., 0., 0., 0., 0., 0., 0., 0., 0., 0., 0., 0., 0., 0., 0.,\n",
              "        0., 0., 0., 0., 0., 0., 0., 0., 0., 0., 0.], dtype=float32)]"
            ]
          },
          "metadata": {},
          "execution_count": 24
        }
      ]
    },
    {
      "cell_type": "code",
      "metadata": {
        "id": "0NO2dkHQoQGq"
      },
      "source": [
        "weights , biases = hidden1.get_weights()"
      ],
      "execution_count": 25,
      "outputs": []
    },
    {
      "cell_type": "code",
      "metadata": {
        "colab": {
          "base_uri": "https://localhost:8080/"
        },
        "id": "GK5vzubGoabr",
        "outputId": "94af3c16-a411-49f4-f0ab-86d2d8dd8087"
      },
      "source": [
        "print(f\"weights: {weights.shape}\")"
      ],
      "execution_count": 26,
      "outputs": [
        {
          "output_type": "stream",
          "name": "stdout",
          "text": [
            "weights: (784, 300)\n"
          ]
        }
      ]
    },
    {
      "cell_type": "code",
      "metadata": {
        "colab": {
          "base_uri": "https://localhost:8080/"
        },
        "id": "lit4IJ-4okIb",
        "outputId": "dc9fbf62-7573-41ed-b02d-034922ccc9ce"
      },
      "source": [
        "print(f\"biases :{biases.shape}\")"
      ],
      "execution_count": 27,
      "outputs": [
        {
          "output_type": "stream",
          "name": "stdout",
          "text": [
            "biases :(300,)\n"
          ]
        }
      ]
    },
    {
      "cell_type": "markdown",
      "source": [
        "**Fit the Model with Training and Validation Data**"
      ],
      "metadata": {
        "id": "YOy1PtA5sJB4"
      }
    },
    {
      "cell_type": "code",
      "metadata": {
        "id": "qcbnaXC0otRT"
      },
      "source": [
        "LOSS_FUNCTION = \"sparse_categorical_crossentropy\"\n",
        "OPTIMIZER = \"SGD\" # to mininmize the loss , we are using sgd to minimizeloss function\n",
        "METRICS = ['accuracy']\n",
        "\n",
        "model_clf.compile(loss=LOSS_FUNCTION,optimizer = OPTIMIZER , metrics = METRICS)"
      ],
      "execution_count": 28,
      "outputs": []
    },
    {
      "cell_type": "markdown",
      "source": [
        "**EARLY STOPPING CALLBACKS**"
      ],
      "metadata": {
        "id": "GPznwHUl4Pq6"
      }
    },
    {
      "cell_type": "code",
      "source": [
        "early_stopping = tf.keras.callbacks.EarlyStopping(patience=5,restore_best_weights=True)\n"
      ],
      "metadata": {
        "id": "N_6AWnEb3yL3"
      },
      "execution_count": 29,
      "outputs": []
    },
    {
      "cell_type": "markdown",
      "source": [
        "**MODEL CHECKPOINTING CALLBACK**"
      ],
      "metadata": {
        "id": "vXRATq_Q4RpR"
      }
    },
    {
      "cell_type": "code",
      "source": [
        "CKPT_PATH = \"model_ckpt.h5\"\n",
        "checkpointing_cb = tf.keras.callbacks.ModelCheckpoint(CKPT_PATH,save_best_only = True)"
      ],
      "metadata": {
        "id": "hLRh_Jrz3yQk"
      },
      "execution_count": 30,
      "outputs": []
    },
    {
      "cell_type": "code",
      "source": [
        "EPOCHS = 20\n",
        "VALIDATION_SET = (X_valid, Y_valid)\n",
        "\n",
        "history = model_clf.fit(X_train, Y_train, epochs=EPOCHS,validation_data=VALIDATION_SET, callbacks=[early_stopping,checkpointing_cb])"
      ],
      "metadata": {
        "colab": {
          "base_uri": "https://localhost:8080/"
        },
        "id": "MYUao5jB4Ec1",
        "outputId": "35dba720-2414-44a8-c1ed-d5f31b1328bd"
      },
      "execution_count": 31,
      "outputs": [
        {
          "output_type": "stream",
          "name": "stdout",
          "text": [
            "Epoch 1/20\n",
            "1719/1719 [==============================] - 9s 4ms/step - loss: 0.6211 - accuracy: 0.8391 - val_loss: 0.3058 - val_accuracy: 0.9144\n",
            "Epoch 2/20\n",
            "1719/1719 [==============================] - 7s 4ms/step - loss: 0.2878 - accuracy: 0.9177 - val_loss: 0.2399 - val_accuracy: 0.9334\n",
            "Epoch 3/20\n",
            "1719/1719 [==============================] - 7s 4ms/step - loss: 0.2342 - accuracy: 0.9325 - val_loss: 0.2008 - val_accuracy: 0.9462\n",
            "Epoch 4/20\n",
            "1719/1719 [==============================] - 7s 4ms/step - loss: 0.1979 - accuracy: 0.9439 - val_loss: 0.1737 - val_accuracy: 0.9530\n",
            "Epoch 5/20\n",
            "1719/1719 [==============================] - 7s 4ms/step - loss: 0.1723 - accuracy: 0.9509 - val_loss: 0.1531 - val_accuracy: 0.9582\n",
            "Epoch 6/20\n",
            "1719/1719 [==============================] - 7s 4ms/step - loss: 0.1521 - accuracy: 0.9564 - val_loss: 0.1419 - val_accuracy: 0.9618\n",
            "Epoch 7/20\n",
            "1719/1719 [==============================] - 7s 4ms/step - loss: 0.1363 - accuracy: 0.9616 - val_loss: 0.1280 - val_accuracy: 0.9662\n",
            "Epoch 8/20\n",
            "1719/1719 [==============================] - 7s 4ms/step - loss: 0.1237 - accuracy: 0.9651 - val_loss: 0.1217 - val_accuracy: 0.9660\n",
            "Epoch 9/20\n",
            "1719/1719 [==============================] - 7s 4ms/step - loss: 0.1128 - accuracy: 0.9679 - val_loss: 0.1139 - val_accuracy: 0.9678\n",
            "Epoch 10/20\n",
            "1719/1719 [==============================] - 7s 4ms/step - loss: 0.1031 - accuracy: 0.9708 - val_loss: 0.1061 - val_accuracy: 0.9700\n",
            "Epoch 11/20\n",
            "1719/1719 [==============================] - 7s 4ms/step - loss: 0.0951 - accuracy: 0.9729 - val_loss: 0.1029 - val_accuracy: 0.9706\n",
            "Epoch 12/20\n",
            "1719/1719 [==============================] - 7s 4ms/step - loss: 0.0879 - accuracy: 0.9760 - val_loss: 0.0959 - val_accuracy: 0.9734\n",
            "Epoch 13/20\n",
            "1719/1719 [==============================] - 7s 4ms/step - loss: 0.0815 - accuracy: 0.9777 - val_loss: 0.0910 - val_accuracy: 0.9754\n",
            "Epoch 14/20\n",
            "1719/1719 [==============================] - 7s 4ms/step - loss: 0.0755 - accuracy: 0.9794 - val_loss: 0.0885 - val_accuracy: 0.9750\n",
            "Epoch 15/20\n",
            "1719/1719 [==============================] - 7s 4ms/step - loss: 0.0703 - accuracy: 0.9809 - val_loss: 0.0878 - val_accuracy: 0.9750\n",
            "Epoch 16/20\n",
            "1719/1719 [==============================] - 7s 4ms/step - loss: 0.0655 - accuracy: 0.9826 - val_loss: 0.0841 - val_accuracy: 0.9760\n",
            "Epoch 17/20\n",
            "1719/1719 [==============================] - 7s 4ms/step - loss: 0.0615 - accuracy: 0.9833 - val_loss: 0.0796 - val_accuracy: 0.9762\n",
            "Epoch 18/20\n",
            "1719/1719 [==============================] - 7s 4ms/step - loss: 0.0577 - accuracy: 0.9848 - val_loss: 0.0783 - val_accuracy: 0.9766\n",
            "Epoch 19/20\n",
            "1719/1719 [==============================] - 7s 4ms/step - loss: 0.0538 - accuracy: 0.9856 - val_loss: 0.0773 - val_accuracy: 0.9778\n",
            "Epoch 20/20\n",
            "1719/1719 [==============================] - 7s 4ms/step - loss: 0.0505 - accuracy: 0.9869 - val_loss: 0.0772 - val_accuracy: 0.9768\n"
          ]
        }
      ]
    },
    {
      "cell_type": "code",
      "metadata": {
        "id": "l0DG6dzVqEVx"
      },
      "source": [
        "df = pd.DataFrame(history.history)"
      ],
      "execution_count": 32,
      "outputs": []
    },
    {
      "cell_type": "code",
      "metadata": {
        "colab": {
          "base_uri": "https://localhost:8080/",
          "height": 676
        },
        "id": "Oosq-has7hm0",
        "outputId": "7a3c7933-8f93-448f-e712-c61e57858e89"
      },
      "source": [
        "df ## for every epoch "
      ],
      "execution_count": 33,
      "outputs": [
        {
          "output_type": "execute_result",
          "data": {
            "text/html": [
              "\n",
              "  <div id=\"df-7d8024cf-0cfa-4e87-ad36-6579e5af2cee\">\n",
              "    <div class=\"colab-df-container\">\n",
              "      <div>\n",
              "<style scoped>\n",
              "    .dataframe tbody tr th:only-of-type {\n",
              "        vertical-align: middle;\n",
              "    }\n",
              "\n",
              "    .dataframe tbody tr th {\n",
              "        vertical-align: top;\n",
              "    }\n",
              "\n",
              "    .dataframe thead th {\n",
              "        text-align: right;\n",
              "    }\n",
              "</style>\n",
              "<table border=\"1\" class=\"dataframe\">\n",
              "  <thead>\n",
              "    <tr style=\"text-align: right;\">\n",
              "      <th></th>\n",
              "      <th>loss</th>\n",
              "      <th>accuracy</th>\n",
              "      <th>val_loss</th>\n",
              "      <th>val_accuracy</th>\n",
              "    </tr>\n",
              "  </thead>\n",
              "  <tbody>\n",
              "    <tr>\n",
              "      <th>0</th>\n",
              "      <td>0.621078</td>\n",
              "      <td>0.839055</td>\n",
              "      <td>0.305764</td>\n",
              "      <td>0.9144</td>\n",
              "    </tr>\n",
              "    <tr>\n",
              "      <th>1</th>\n",
              "      <td>0.287768</td>\n",
              "      <td>0.917745</td>\n",
              "      <td>0.239871</td>\n",
              "      <td>0.9334</td>\n",
              "    </tr>\n",
              "    <tr>\n",
              "      <th>2</th>\n",
              "      <td>0.234160</td>\n",
              "      <td>0.932509</td>\n",
              "      <td>0.200819</td>\n",
              "      <td>0.9462</td>\n",
              "    </tr>\n",
              "    <tr>\n",
              "      <th>3</th>\n",
              "      <td>0.197910</td>\n",
              "      <td>0.943855</td>\n",
              "      <td>0.173710</td>\n",
              "      <td>0.9530</td>\n",
              "    </tr>\n",
              "    <tr>\n",
              "      <th>4</th>\n",
              "      <td>0.172258</td>\n",
              "      <td>0.950873</td>\n",
              "      <td>0.153098</td>\n",
              "      <td>0.9582</td>\n",
              "    </tr>\n",
              "    <tr>\n",
              "      <th>5</th>\n",
              "      <td>0.152081</td>\n",
              "      <td>0.956436</td>\n",
              "      <td>0.141879</td>\n",
              "      <td>0.9618</td>\n",
              "    </tr>\n",
              "    <tr>\n",
              "      <th>6</th>\n",
              "      <td>0.136298</td>\n",
              "      <td>0.961564</td>\n",
              "      <td>0.127953</td>\n",
              "      <td>0.9662</td>\n",
              "    </tr>\n",
              "    <tr>\n",
              "      <th>7</th>\n",
              "      <td>0.123694</td>\n",
              "      <td>0.965073</td>\n",
              "      <td>0.121672</td>\n",
              "      <td>0.9660</td>\n",
              "    </tr>\n",
              "    <tr>\n",
              "      <th>8</th>\n",
              "      <td>0.112792</td>\n",
              "      <td>0.967873</td>\n",
              "      <td>0.113857</td>\n",
              "      <td>0.9678</td>\n",
              "    </tr>\n",
              "    <tr>\n",
              "      <th>9</th>\n",
              "      <td>0.103069</td>\n",
              "      <td>0.970782</td>\n",
              "      <td>0.106124</td>\n",
              "      <td>0.9700</td>\n",
              "    </tr>\n",
              "    <tr>\n",
              "      <th>10</th>\n",
              "      <td>0.095143</td>\n",
              "      <td>0.972855</td>\n",
              "      <td>0.102897</td>\n",
              "      <td>0.9706</td>\n",
              "    </tr>\n",
              "    <tr>\n",
              "      <th>11</th>\n",
              "      <td>0.087872</td>\n",
              "      <td>0.975982</td>\n",
              "      <td>0.095878</td>\n",
              "      <td>0.9734</td>\n",
              "    </tr>\n",
              "    <tr>\n",
              "      <th>12</th>\n",
              "      <td>0.081470</td>\n",
              "      <td>0.977673</td>\n",
              "      <td>0.091030</td>\n",
              "      <td>0.9754</td>\n",
              "    </tr>\n",
              "    <tr>\n",
              "      <th>13</th>\n",
              "      <td>0.075482</td>\n",
              "      <td>0.979418</td>\n",
              "      <td>0.088474</td>\n",
              "      <td>0.9750</td>\n",
              "    </tr>\n",
              "    <tr>\n",
              "      <th>14</th>\n",
              "      <td>0.070301</td>\n",
              "      <td>0.980873</td>\n",
              "      <td>0.087753</td>\n",
              "      <td>0.9750</td>\n",
              "    </tr>\n",
              "    <tr>\n",
              "      <th>15</th>\n",
              "      <td>0.065524</td>\n",
              "      <td>0.982600</td>\n",
              "      <td>0.084071</td>\n",
              "      <td>0.9760</td>\n",
              "    </tr>\n",
              "    <tr>\n",
              "      <th>16</th>\n",
              "      <td>0.061452</td>\n",
              "      <td>0.983327</td>\n",
              "      <td>0.079552</td>\n",
              "      <td>0.9762</td>\n",
              "    </tr>\n",
              "    <tr>\n",
              "      <th>17</th>\n",
              "      <td>0.057714</td>\n",
              "      <td>0.984800</td>\n",
              "      <td>0.078348</td>\n",
              "      <td>0.9766</td>\n",
              "    </tr>\n",
              "    <tr>\n",
              "      <th>18</th>\n",
              "      <td>0.053836</td>\n",
              "      <td>0.985564</td>\n",
              "      <td>0.077328</td>\n",
              "      <td>0.9778</td>\n",
              "    </tr>\n",
              "    <tr>\n",
              "      <th>19</th>\n",
              "      <td>0.050505</td>\n",
              "      <td>0.986909</td>\n",
              "      <td>0.077164</td>\n",
              "      <td>0.9768</td>\n",
              "    </tr>\n",
              "  </tbody>\n",
              "</table>\n",
              "</div>\n",
              "      <button class=\"colab-df-convert\" onclick=\"convertToInteractive('df-7d8024cf-0cfa-4e87-ad36-6579e5af2cee')\"\n",
              "              title=\"Convert this dataframe to an interactive table.\"\n",
              "              style=\"display:none;\">\n",
              "        \n",
              "  <svg xmlns=\"http://www.w3.org/2000/svg\" height=\"24px\"viewBox=\"0 0 24 24\"\n",
              "       width=\"24px\">\n",
              "    <path d=\"M0 0h24v24H0V0z\" fill=\"none\"/>\n",
              "    <path d=\"M18.56 5.44l.94 2.06.94-2.06 2.06-.94-2.06-.94-.94-2.06-.94 2.06-2.06.94zm-11 1L8.5 8.5l.94-2.06 2.06-.94-2.06-.94L8.5 2.5l-.94 2.06-2.06.94zm10 10l.94 2.06.94-2.06 2.06-.94-2.06-.94-.94-2.06-.94 2.06-2.06.94z\"/><path d=\"M17.41 7.96l-1.37-1.37c-.4-.4-.92-.59-1.43-.59-.52 0-1.04.2-1.43.59L10.3 9.45l-7.72 7.72c-.78.78-.78 2.05 0 2.83L4 21.41c.39.39.9.59 1.41.59.51 0 1.02-.2 1.41-.59l7.78-7.78 2.81-2.81c.8-.78.8-2.07 0-2.86zM5.41 20L4 18.59l7.72-7.72 1.47 1.35L5.41 20z\"/>\n",
              "  </svg>\n",
              "      </button>\n",
              "      \n",
              "  <style>\n",
              "    .colab-df-container {\n",
              "      display:flex;\n",
              "      flex-wrap:wrap;\n",
              "      gap: 12px;\n",
              "    }\n",
              "\n",
              "    .colab-df-convert {\n",
              "      background-color: #E8F0FE;\n",
              "      border: none;\n",
              "      border-radius: 50%;\n",
              "      cursor: pointer;\n",
              "      display: none;\n",
              "      fill: #1967D2;\n",
              "      height: 32px;\n",
              "      padding: 0 0 0 0;\n",
              "      width: 32px;\n",
              "    }\n",
              "\n",
              "    .colab-df-convert:hover {\n",
              "      background-color: #E2EBFA;\n",
              "      box-shadow: 0px 1px 2px rgba(60, 64, 67, 0.3), 0px 1px 3px 1px rgba(60, 64, 67, 0.15);\n",
              "      fill: #174EA6;\n",
              "    }\n",
              "\n",
              "    [theme=dark] .colab-df-convert {\n",
              "      background-color: #3B4455;\n",
              "      fill: #D2E3FC;\n",
              "    }\n",
              "\n",
              "    [theme=dark] .colab-df-convert:hover {\n",
              "      background-color: #434B5C;\n",
              "      box-shadow: 0px 1px 3px 1px rgba(0, 0, 0, 0.15);\n",
              "      filter: drop-shadow(0px 1px 2px rgba(0, 0, 0, 0.3));\n",
              "      fill: #FFFFFF;\n",
              "    }\n",
              "  </style>\n",
              "\n",
              "      <script>\n",
              "        const buttonEl =\n",
              "          document.querySelector('#df-7d8024cf-0cfa-4e87-ad36-6579e5af2cee button.colab-df-convert');\n",
              "        buttonEl.style.display =\n",
              "          google.colab.kernel.accessAllowed ? 'block' : 'none';\n",
              "\n",
              "        async function convertToInteractive(key) {\n",
              "          const element = document.querySelector('#df-7d8024cf-0cfa-4e87-ad36-6579e5af2cee');\n",
              "          const dataTable =\n",
              "            await google.colab.kernel.invokeFunction('convertToInteractive',\n",
              "                                                     [key], {});\n",
              "          if (!dataTable) return;\n",
              "\n",
              "          const docLinkHtml = 'Like what you see? Visit the ' +\n",
              "            '<a target=\"_blank\" href=https://colab.research.google.com/notebooks/data_table.ipynb>data table notebook</a>'\n",
              "            + ' to learn more about interactive tables.';\n",
              "          element.innerHTML = '';\n",
              "          dataTable['output_type'] = 'display_data';\n",
              "          await google.colab.output.renderOutput(dataTable, element);\n",
              "          const docLink = document.createElement('div');\n",
              "          docLink.innerHTML = docLinkHtml;\n",
              "          element.appendChild(docLink);\n",
              "        }\n",
              "      </script>\n",
              "    </div>\n",
              "  </div>\n",
              "  "
            ],
            "text/plain": [
              "        loss  accuracy  val_loss  val_accuracy\n",
              "0   0.621078  0.839055  0.305764        0.9144\n",
              "1   0.287768  0.917745  0.239871        0.9334\n",
              "2   0.234160  0.932509  0.200819        0.9462\n",
              "3   0.197910  0.943855  0.173710        0.9530\n",
              "4   0.172258  0.950873  0.153098        0.9582\n",
              "5   0.152081  0.956436  0.141879        0.9618\n",
              "6   0.136298  0.961564  0.127953        0.9662\n",
              "7   0.123694  0.965073  0.121672        0.9660\n",
              "8   0.112792  0.967873  0.113857        0.9678\n",
              "9   0.103069  0.970782  0.106124        0.9700\n",
              "10  0.095143  0.972855  0.102897        0.9706\n",
              "11  0.087872  0.975982  0.095878        0.9734\n",
              "12  0.081470  0.977673  0.091030        0.9754\n",
              "13  0.075482  0.979418  0.088474        0.9750\n",
              "14  0.070301  0.980873  0.087753        0.9750\n",
              "15  0.065524  0.982600  0.084071        0.9760\n",
              "16  0.061452  0.983327  0.079552        0.9762\n",
              "17  0.057714  0.984800  0.078348        0.9766\n",
              "18  0.053836  0.985564  0.077328        0.9778\n",
              "19  0.050505  0.986909  0.077164        0.9768"
            ]
          },
          "metadata": {},
          "execution_count": 33
        }
      ]
    },
    {
      "cell_type": "markdown",
      "source": [
        "**Plotting Accuracy & Loss**"
      ],
      "metadata": {
        "id": "qXavFduloRwQ"
      }
    },
    {
      "cell_type": "code",
      "metadata": {
        "colab": {
          "base_uri": "https://localhost:8080/",
          "height": 282
        },
        "id": "vt9S5_cy7s67",
        "outputId": "092dba3d-1d53-47af-dfb3-51720349afd8"
      },
      "source": [
        "df.plot()"
      ],
      "execution_count": 34,
      "outputs": [
        {
          "output_type": "execute_result",
          "data": {
            "text/plain": [
              "<matplotlib.axes._subplots.AxesSubplot at 0x7fc40c303990>"
            ]
          },
          "metadata": {},
          "execution_count": 34
        },
        {
          "output_type": "display_data",
          "data": {
            "image/png": "[encoded data removed]",
            "text/plain": [
              "<Figure size 432x288 with 1 Axes>"
            ]
          },
          "metadata": {
            "needs_background": "light"
          }
        }
      ]
    },
    {
      "cell_type": "code",
      "metadata": {
        "colab": {
          "base_uri": "https://localhost:8080/"
        },
        "id": "fU-3IWoh-fsy",
        "outputId": "bd690e27-1a26-476d-95fa-4693d4978398"
      },
      "source": [
        "model_clf.evaluate(X_test,Y_test)"
      ],
      "execution_count": 35,
      "outputs": [
        {
          "output_type": "stream",
          "name": "stdout",
          "text": [
            "313/313 [==============================] - 1s 3ms/step - loss: 0.0799 - accuracy: 0.9751\n"
          ]
        },
        {
          "output_type": "execute_result",
          "data": {
            "text/plain": [
              "[0.0799289271235466, 0.9750999808311462]"
            ]
          },
          "metadata": {},
          "execution_count": 35
        }
      ]
    },
    {
      "cell_type": "code",
      "metadata": {
        "colab": {
          "base_uri": "https://localhost:8080/"
        },
        "id": "jjO6MK1AqbhG",
        "outputId": "3169162a-5b54-4b91-cd10-ffb4f564641c"
      },
      "source": [
        "10000/32 # evaluate function is taking random 313 data points and predicting the value"
      ],
      "execution_count": 36,
      "outputs": [
        {
          "output_type": "execute_result",
          "data": {
            "text/plain": [
              "312.5"
            ]
          },
          "metadata": {},
          "execution_count": 36
        }
      ]
    },
    {
      "cell_type": "code",
      "metadata": {
        "colab": {
          "base_uri": "https://localhost:8080/"
        },
        "id": "HZ5kyeSh_88r",
        "outputId": "84480705-f320-4def-e55b-2d1d7b748786"
      },
      "source": [
        "x_new = X_test[:3]\n",
        "y_prob = model_clf.predict(x_new)\n",
        "y_prob.round(3)"
      ],
      "execution_count": 37,
      "outputs": [
        {
          "output_type": "execute_result",
          "data": {
            "text/plain": [
              "array([[0.   , 0.   , 0.   , 0.002, 0.   , 0.   , 0.   , 0.997, 0.   ,\n",
              "        0.   ],\n",
              "       [0.   , 0.   , 0.999, 0.001, 0.   , 0.   , 0.   , 0.   , 0.   ,\n",
              "        0.   ],\n",
              "       [0.   , 0.996, 0.001, 0.   , 0.   , 0.   , 0.   , 0.001, 0.001,\n",
              "        0.   ]], dtype=float32)"
            ]
          },
          "metadata": {},
          "execution_count": 37
        }
      ]
    },
    {
      "cell_type": "code",
      "metadata": {
        "id": "gmRCGg0GASQi",
        "colab": {
          "base_uri": "https://localhost:8080/"
        },
        "outputId": "6fa0be97-7304-4858-9165-082d7ce077b4"
      },
      "source": [
        "y_pred = np.argmax(y_prob , axis=-1) # returns the index of maximum value\n",
        "y_pred"
      ],
      "execution_count": 38,
      "outputs": [
        {
          "output_type": "execute_result",
          "data": {
            "text/plain": [
              "array([7, 2, 1])"
            ]
          },
          "metadata": {},
          "execution_count": 38
        }
      ]
    },
    {
      "cell_type": "markdown",
      "metadata": {
        "id": "imBaomyYkT4h"
      },
      "source": [
        "If we dont use axis parameter argmax will return the maximum of all the array elements.\n",
        "  "
      ]
    },
    {
      "cell_type": "code",
      "metadata": {
        "colab": {
          "base_uri": "https://localhost:8080/"
        },
        "id": "pMwPgurFjx6R",
        "outputId": "8c2bc5f3-e8f6-4b4c-dfdf-bf9d77ccc477"
      },
      "source": [
        "Y_test[:3]"
      ],
      "execution_count": 39,
      "outputs": [
        {
          "output_type": "execute_result",
          "data": {
            "text/plain": [
              "array([7, 2, 1], dtype=uint8)"
            ]
          },
          "metadata": {},
          "execution_count": 39
        }
      ]
    },
    {
      "cell_type": "markdown",
      "source": [
        "**Plot graph between predicted and actual value**"
      ],
      "metadata": {
        "id": "jT0NOK50nQpX"
      }
    },
    {
      "cell_type": "code",
      "source": [
        "# Lets plot a graph between predicted and actual value :\n",
        "# x_new -- data\n",
        "# y_pred -- predicted value\n",
        "# Y_test -- actual value"
      ],
      "metadata": {
        "id": "Zk2KGq3thkJu"
      },
      "execution_count": 40,
      "outputs": []
    },
    {
      "cell_type": "code",
      "metadata": {
        "id": "h1dmj9A2kv4q"
      },
      "source": [
        "y_test_new = Y_test[:3]"
      ],
      "execution_count": 41,
      "outputs": []
    },
    {
      "cell_type": "code",
      "metadata": {
        "colab": {
          "base_uri": "https://localhost:8080/",
          "height": 812
        },
        "id": "o5CeFFm9kbEj",
        "outputId": "147ffe30-f03f-4291-ab8d-3ffe469e2b7d"
      },
      "source": [
        "for data, predicted , actual in zip(x_new , y_pred , y_test_new):\n",
        "  plt.imshow(data , cmap = \"binary\")\n",
        "  plt.title(f\"Predicted : {predicted} , Actual : {actual}\")\n",
        "  plt.axis(\"off\")\n",
        "  plt.show()\n",
        "  print(\"=================================\")"
      ],
      "execution_count": 42,
      "outputs": [
        {
          "output_type": "display_data",
          "data": {
            "image/png": "[encoded data removed]",
            "text/plain": [
              "<Figure size 432x288 with 1 Axes>"
            ]
          },
          "metadata": {
            "needs_background": "light"
          }
        },
        {
          "output_type": "stream",
          "name": "stdout",
          "text": [
            "=================================\n"
          ]
        },
        {
          "output_type": "display_data",
          "data": {
            "image/png": "[encoded data removed]",
            "text/plain": [
              "<Figure size 432x288 with 1 Axes>"
            ]
          },
          "metadata": {
            "needs_background": "light"
          }
        },
        {
          "output_type": "stream",
          "name": "stdout",
          "text": [
            "=================================\n"
          ]
        },
        {
          "output_type": "display_data",
          "data": {
            "image/png": "[encoded data removed]",
            "text/plain": [
              "<Figure size 432x288 with 1 Axes>"
            ]
          },
          "metadata": {
            "needs_background": "light"
          }
        },
        {
          "output_type": "stream",
          "name": "stdout",
          "text": [
            "=================================\n"
          ]
        }
      ]
    }
  ]
}